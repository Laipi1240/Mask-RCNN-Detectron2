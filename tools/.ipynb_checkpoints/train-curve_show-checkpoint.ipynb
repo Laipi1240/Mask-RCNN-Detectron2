{
 "cells": [
  {
   "cell_type": "markdown",
   "metadata": {},
   "source": [
    "# Train Detectron2 with Custom COCO Datasets"
   ]
  },
  {
   "cell_type": "code",
   "execution_count": 1,
   "metadata": {},
   "outputs": [],
   "source": [
    "import detectron2\n",
    "from detectron2.utils.logger import setup_logger\n",
    "\n",
    "# import some common libraries\n",
    "import matplotlib.pyplot as plt\n",
    "import numpy as np\n",
    "import cv2\n",
    "import os\n",
    "import gdown\n",
    "import torch\n",
    "\n",
    "# import some common detectron2 utilities\n",
    "from detectron2.engine import DefaultPredictor\n",
    "from detectron2.config import get_cfg\n",
    "from detectron2.utils.visualizer import Visualizer\n",
    "from detectron2.data import MetadataCatalog, DatasetCatalog"
   ]
  },
  {
   "cell_type": "code",
   "execution_count": 2,
   "metadata": {},
   "outputs": [
    {
     "name": "stdout",
     "output_type": "stream",
     "text": [
      "WARNING: pip is being invoked by an old script wrapper. This will fail in a future version of pip.\n",
      "Please see https://github.com/pypa/pip/issues/5599 for advice on fixing the underlying issue.\n",
      "To avoid this problem you can invoke Python with '-m pip' instead of running pip directly.\n",
      "Defaulting to user installation because normal site-packages is not writeable\n",
      "Requirement already satisfied: tensorboard in /home/arg/.local/lib/python3.6/site-packages (2.2.2)\n",
      "Requirement already satisfied: requests<3,>=2.21.0 in /home/arg/.local/lib/python3.6/site-packages (from tensorboard) (2.24.0)\n",
      "Requirement already satisfied: six>=1.10.0 in /usr/lib/python3/dist-packages (from tensorboard) (1.11.0)\n",
      "Requirement already satisfied: markdown>=2.6.8 in /home/arg/.local/lib/python3.6/site-packages (from tensorboard) (3.2.2)\n",
      "Requirement already satisfied: numpy>=1.12.0 in /home/arg/.local/lib/python3.6/site-packages (from tensorboard) (1.19.0)\n",
      "Requirement already satisfied: protobuf>=3.6.0 in /home/arg/.local/lib/python3.6/site-packages (from tensorboard) (3.12.2)\n",
      "Requirement already satisfied: tensorboard-plugin-wit>=1.6.0 in /home/arg/.local/lib/python3.6/site-packages (from tensorboard) (1.7.0)\n",
      "Requirement already satisfied: werkzeug>=0.11.15 in /home/arg/.local/lib/python3.6/site-packages (from tensorboard) (1.0.1)\n",
      "Requirement already satisfied: google-auth<2,>=1.6.3 in /home/arg/.local/lib/python3.6/site-packages (from tensorboard) (1.19.2)\n",
      "Requirement already satisfied: setuptools>=41.0.0 in /home/arg/.local/lib/python3.6/site-packages (from tensorboard) (49.2.0)\n",
      "Requirement already satisfied: grpcio>=1.24.3 in /home/arg/.local/lib/python3.6/site-packages (from tensorboard) (1.30.0)\n",
      "Requirement already satisfied: google-auth-oauthlib<0.5,>=0.4.1 in /home/arg/.local/lib/python3.6/site-packages (from tensorboard) (0.4.1)\n",
      "Requirement already satisfied: wheel>=0.26; python_version >= \"3\" in /usr/lib/python3/dist-packages (from tensorboard) (0.30.0)\n",
      "Requirement already satisfied: absl-py>=0.4 in /home/arg/.local/lib/python3.6/site-packages (from tensorboard) (0.9.0)\n",
      "Requirement already satisfied: certifi>=2017.4.17 in /home/arg/.local/lib/python3.6/site-packages (from requests<3,>=2.21.0->tensorboard) (2020.6.20)\n",
      "Requirement already satisfied: urllib3!=1.25.0,!=1.25.1,<1.26,>=1.21.1 in /home/arg/.local/lib/python3.6/site-packages (from requests<3,>=2.21.0->tensorboard) (1.25.9)\n",
      "Requirement already satisfied: idna<3,>=2.5 in /usr/lib/python3/dist-packages (from requests<3,>=2.21.0->tensorboard) (2.6)\n",
      "Requirement already satisfied: chardet<4,>=3.0.2 in /home/arg/.local/lib/python3.6/site-packages (from requests<3,>=2.21.0->tensorboard) (3.0.4)\n",
      "Requirement already satisfied: importlib-metadata; python_version < \"3.8\" in /home/arg/.local/lib/python3.6/site-packages (from markdown>=2.6.8->tensorboard) (1.7.0)\n",
      "Requirement already satisfied: rsa<5,>=3.1.4; python_version >= \"3\" in /home/arg/.local/lib/python3.6/site-packages (from google-auth<2,>=1.6.3->tensorboard) (4.6)\n",
      "Requirement already satisfied: cachetools<5.0,>=2.0.0 in /home/arg/.local/lib/python3.6/site-packages (from google-auth<2,>=1.6.3->tensorboard) (4.1.1)\n",
      "Requirement already satisfied: pyasn1-modules>=0.2.1 in /home/arg/.local/lib/python3.6/site-packages (from google-auth<2,>=1.6.3->tensorboard) (0.2.8)\n",
      "Requirement already satisfied: requests-oauthlib>=0.7.0 in /home/arg/.local/lib/python3.6/site-packages (from google-auth-oauthlib<0.5,>=0.4.1->tensorboard) (1.3.0)\n",
      "Requirement already satisfied: zipp>=0.5 in /home/arg/.local/lib/python3.6/site-packages (from importlib-metadata; python_version < \"3.8\"->markdown>=2.6.8->tensorboard) (3.1.0)\n",
      "Requirement already satisfied: pyasn1>=0.1.3 in /home/arg/.local/lib/python3.6/site-packages (from rsa<5,>=3.1.4; python_version >= \"3\"->google-auth<2,>=1.6.3->tensorboard) (0.4.8)\n",
      "Requirement already satisfied: oauthlib>=3.0.0 in /home/arg/.local/lib/python3.6/site-packages (from requests-oauthlib>=0.7.0->google-auth-oauthlib<0.5,>=0.4.1->tensorboard) (3.1.0)\n",
      "\u001b[33mWARNING: You are using pip version 20.1.1; however, version 21.3.1 is available.\n",
      "You should consider upgrading via the '/usr/bin/python3 -m pip install --upgrade pip' command.\u001b[0m\n"
     ]
    }
   ],
   "source": [
    "!pip3 install tensorboard"
   ]
  },
  {
   "cell_type": "code",
   "execution_count": null,
   "metadata": {
    "scrolled": false
   },
   "outputs": [
    {
     "name": "stdout",
     "output_type": "stream",
     "text": [
      "TensorFlow installation not found - running with reduced feature set.\n",
      "Serving TensorBoard on localhost; to expose to the network, use a proxy or pass --bind_all\n",
      "TensorBoard 2.2.2 at http://localhost:6006/ (Press CTRL+C to quit)\n"
     ]
    }
   ],
   "source": [
    "!tensorboard --logdir=\"./trained_model_result/WAM_V_S2_output\""
   ]
  },
  {
   "cell_type": "code",
   "execution_count": 3,
   "metadata": {
    "scrolled": true
   },
   "outputs": [
    {
     "name": "stdout",
     "output_type": "stream",
     "text": [
      "TensorFlow installation not found - running with reduced feature set.\n",
      "======================================================================\n",
      "Processing event files... (this can take a few minutes)\n",
      "======================================================================\n",
      "\n",
      "Found event files in:\n",
      "./trained_model_result/WAM_V_S2_output\n",
      "\n",
      "These tags are in ./trained_model_result/WAM_V_S2_output:\n",
      "audio -\n",
      "histograms -\n",
      "images -\n",
      "scalars\n",
      "   data_time\n",
      "   eta_seconds\n",
      "   fast_rcnn/cls_accuracy\n",
      "   fast_rcnn/false_negative\n",
      "   fast_rcnn/fg_cls_accuracy\n",
      "   loss_box_reg\n",
      "   loss_cls\n",
      "   loss_mask\n",
      "   loss_rpn_cls\n",
      "   loss_rpn_loc\n",
      "   lr\n",
      "   mask_rcnn/accuracy\n",
      "   mask_rcnn/false_negative\n",
      "   mask_rcnn/false_positive\n",
      "   roi_head/num_bg_samples\n",
      "   roi_head/num_fg_samples\n",
      "   rpn/num_neg_anchors\n",
      "   rpn/num_pos_anchors\n",
      "   time\n",
      "   total_loss\n",
      "tensor -\n",
      "======================================================================\n",
      "\n",
      "Event statistics for ./trained_model_result/WAM_V_S2_output:\n",
      "audio -\n",
      "graph -\n",
      "histograms -\n",
      "images -\n",
      "scalars\n",
      "   first_step           19\n",
      "   last_step            30499\n",
      "   max_step             30499\n",
      "   min_step             19\n",
      "   num_steps            1525\n",
      "   outoforder_steps     []\n",
      "sessionlog:checkpoint -\n",
      "sessionlog:start -\n",
      "sessionlog:stop -\n",
      "tensor -\n",
      "======================================================================\n",
      "\n"
     ]
    }
   ],
   "source": [
    "!tensorboard --inspect --logdir=\"./trained_model_result/WAM_V_S2_output\""
   ]
  },
  {
   "cell_type": "code",
   "execution_count": null,
   "metadata": {},
   "outputs": [],
   "source": []
  }
 ],
 "metadata": {
  "kernelspec": {
   "display_name": "Python 3",
   "language": "python",
   "name": "python3"
  },
  "language_info": {
   "codemirror_mode": {
    "name": "ipython",
    "version": 3
   },
   "file_extension": ".py",
   "mimetype": "text/x-python",
   "name": "python",
   "nbconvert_exporter": "python",
   "pygments_lexer": "ipython3",
   "version": "3.6.9"
  }
 },
 "nbformat": 4,
 "nbformat_minor": 4
}
